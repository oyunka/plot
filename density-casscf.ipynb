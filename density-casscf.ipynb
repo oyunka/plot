{
 "cells": [
  {
   "cell_type": "code",
   "execution_count": 73,
   "metadata": {},
   "outputs": [
    {
     "name": "stdout",
     "output_type": "stream",
     "text": [
      "norb is 9\n",
      "# number of orbital :  9\n",
      "0.00057331230854\n",
      "0.412839519895\n",
      "           l = 0     l = 1     l = 2     l = 3\n",
      "m = -1  0.000000  0.002893  0.000573  0.003380\n",
      "m = 0   0.000822  0.002558  0.001389  0.008454\n",
      "m = 1   0.000000  0.002893  0.000573  0.003380\n",
      "               l = 0         l = 1  l = 2         l = 3\n",
      "m = -1  0.000000e+00 -0.000000e+00   -0.0 -0.000000e+00\n",
      "m = 0  -9.976566e-16  9.150153e-16    0.0  1.139636e-15\n",
      "m = 1   0.000000e+00 -0.000000e+00   -0.0 -0.000000e+00\n"
     ]
    }
   ],
   "source": [
    "import pandas as pd\n",
    "import numpy as np\n",
    "from matplotlib import pyplot as plt\n",
    "import matplotlib.cm as cm\n",
    "from matplotlib.colors import LogNorm\n",
    "from mpl_toolkits.axes_grid1 import make_axes_locatable\n",
    "from matplotlib.colors import LinearSegmentedColormap\n",
    "import sys\n",
    "\n",
    "from scipy.interpolate import lagrange\n",
    "from scipy.interpolate import interp1d\n",
    "from scipy.interpolate import spline\n",
    "from scipy.interpolate import BSpline\n",
    "from scipy import special\n",
    "argv = sys.argv\n",
    "argc = len(argv)\n",
    "IUNIT = 0 + 1j\n",
    "Ev_const = 27.21138505\n",
    "\n",
    "file_output = '15.9eV_Ne.1.0.8'\n",
    "\n",
    "def main():\n",
    "\n",
    "    w_fname = \"wang.txt\"\n",
    "    fname = \"15.9_cep90_den/Ne.1.0.8.surff\"\n",
    "#     fname = \"w_only/Ne.0.0.5/14.3/Ne.00.00.00.05.surff\"\n",
    "    \n",
    "    with open(fname, \"r\") as fp:\n",
    "        line = fp.readline()\n",
    "        if len(list(line.strip()))  != 0:\n",
    "            if list(line.strip())[0] == \"#\":\n",
    "                #print(line)\n",
    "                num_krad = int(fp.readline().strip(\"\\n\"))\n",
    "                num_kang = int(fp.readline().strip(\"\\n\"))\n",
    "                skipnum = 3\n",
    "            else:            \n",
    "                #print(\"a\")\n",
    "                skipnum = 2\n",
    "                num_krad = int(line.strip(\"\\n\"))\n",
    "                num_kang = int(fp.readline().strip(\"\\n\"))\n",
    "\n",
    "    data = pd.read_csv(fname, comment=\"#\", delim_whitespace=True, header=None, skiprows=skipnum)\n",
    "    krad = data.iloc[:,0].values\n",
    "    kang = data.iloc[:,1].values\n",
    "    cval = data.iloc[:,2:].values\n",
    "    #print(cval.shape)\n",
    "    #print(len(data.iloc[0,:]) - 2)\n",
    "\n",
    "    krad = krad.reshape(num_krad, num_kang)\n",
    "    kang = kang.reshape(num_krad, num_kang)\n",
    "\n",
    "\n",
    "    norb = int(len(cval[0,:]) / 2)\n",
    "    nact = norb - 1\n",
    "    print('norb is', norb)\n",
    "    xang = np.cos(kang[0, :])\n",
    "\n",
    "    lmax = 3\n",
    "    mnum = 3\n",
    "\n",
    "    mmax = 1\n",
    "    val = np.zeros((norb, lmax+1, num_krad), dtype=np.complex)\n",
    "    val_frozen = np.zeros((lmax+1, num_krad), dtype=np.complex)\n",
    "\n",
    "    wdata = pd.read_csv(w_fname, comment=\"#\", delim_whitespace=True, header=None, skiprows=0)\n",
    "    wang = wdata.iloc[:, 2].values\n",
    "    xang = wdata.iloc[:, 0].values\n",
    "\n",
    "    print(\"# number of orbital : \", norb)\n",
    "    m_list = [0, 0, -1, 0, 1, 0, -1, 0, 1]\n",
    "    for iorb in range(norb):\n",
    "        realp = cval[:,iorb*2].reshape(num_krad, num_kang)\n",
    "        imagp = cval[:,iorb*2+1].reshape(num_krad, num_kang)\n",
    "\n",
    "        for irad in range(num_krad):\n",
    "            for l in range(lmax+1):\n",
    "                m = m_list[iorb]\n",
    "                if np.abs(m) > l:\n",
    "                    continue\n",
    "                assoc_leg = special.lpmv(np.abs(m), l, xang)\n",
    "                \"\"\"\n",
    "                #       ==============================\n",
    "                #       this part is missed in my code (td1c, surff_init)\n",
    "                \"\"\"\n",
    "                fac = np.sqrt( (2.0*l+1.0) / 2.0 * np.math.factorial(l -  np.abs(m)) / np.math.factorial(l +  np.abs(m)))\n",
    "                sph_val = fac * assoc_leg\n",
    "                val[iorb, l, irad] = np.sum(wang * sph_val * (realp[irad,:] + IUNIT * imagp[irad,:]))\n",
    "                \n",
    "    m_list2 = [-1, 0, 1]\n",
    "    val_msum = np.zeros((mnum, lmax+1, num_krad), dtype=np.complex)\n",
    "    rhok = np.zeros((norb, norb, lmax+1,num_krad), dtype=np.complex)\n",
    "    amp = np.zeros((mnum, lmax+1, num_krad))\n",
    "    phase = np.zeros((mnum, lmax+1, num_krad))\n",
    "    \n",
    "    for iorb in range(norb):\n",
    "        for jorb in range(norb):\n",
    "            for l in range(lmax+1):\n",
    "#                 print(\"irob:\",iorb,\"jrob:\",jorb,\"l:\",l)\n",
    "                for ikrad in range(num_krad):\n",
    "                    rhok[iorb,jorb,l,ikrad] = np.conjugate(val[iorb,l,ikrad])*(val[jorb,l,ikrad])*(den_real[iorb, jorb] + IUNIT * den_imag[iorb, jorb] )\n",
    "\n",
    "            \n",
    "    for im, m in enumerate(m_list2):\n",
    "        for iorb in range(norb):\n",
    "            for jorb in range(norb):\n",
    "                for l in range(lmax+1):\n",
    "                    if m == m_list[iorb]:\n",
    "    #                     print(\"# im, m, iorb : \",im,\", \",  m, \", \", iorb)\n",
    "                        val_msum[im, l, :] += rhok[iorb,jorb,l, :]\n",
    "\n",
    "        #         *val[jorb, l, :]\n",
    "#     *(den_real[iorb, jorb] + IUNIT * den_imag[iorb, jorb] )\n",
    "#     print(val_msum.size)\n",
    "    amp = np.sqrt(np.abs(val_msum))/np.sqrt(2)\n",
    "    phase = np.arctan2(np.imag(val_msum), np.real(val_msum))\n",
    "\n",
    "    print(np.amax(amp[2,2,:]))\n",
    "    print(np.amax(amp[2,2,:])/np.amax(amp[1,2,:]))\n",
    "    \n",
    "#---------------------------------------------------------------------------------------------------\n",
    "    Amp_sheet = np.zeros((mnum, lmax+1))\n",
    "    Phase_sheet = np.zeros((mnum, lmax+1))\n",
    "\n",
    "    for l in range(lmax+1): \n",
    "        for im in range(mnum):\n",
    "            if(l == 0 and (im == 0 or im == 2 )):\n",
    "                continue\n",
    "           \n",
    "            base = im\n",
    "            v2 = val_msum / val_msum[base, 2, :]\n",
    "            ph = np.arctan2(np.imag(v2), np.real(v2))\n",
    "            \n",
    "            col_amp = amp[im, l, 0:200]\n",
    "            max_amp_pos = np.argmax(col_amp)\n",
    "            col_phase = ph[im, l, 0:200]\n",
    "            \n",
    "            Amp_sheet[im, l] = np.amax(col_amp)\n",
    "            Phase_sheet[im, l] = col_phase[max_amp_pos]\n",
    "            \n",
    "    col_name = ['l = 0', 'l = 1', 'l = 2', 'l = 3']\n",
    "    df = pd.DataFrame(Amp_sheet, columns = col_name)\n",
    "    df1 = pd.DataFrame(Phase_sheet, columns = col_name)\n",
    "    df.index = df1.index =['m = -1', 'm = 0', 'm = 1']\n",
    "\n",
    "    # df['l = 0'][0] = 'NaN'\n",
    "    # df['l = 0'][2] = 'NaN'\n",
    "    # df1['l = 0'][0] = 'NaN'\n",
    "    # df1['l = 0'][2] = 'NaN'\n",
    "\n",
    "    print(df)\n",
    "    print(df1)\n",
    "    \n",
    "#     df.to_csv(file_output + '_amp.csv', mode = 'w')\n",
    "#     df1.to_csv(file_output + '_phase.txt', mode = 'w')\n",
    "\n",
    "    df_all = pd.concat([df, df1], axis = 1)\n",
    "\n",
    "#             col.append(col_name)\n",
    "#             df.index = 0.5*krad[60:80, 0]**2 * Ev_const\n",
    "#             df.to_csv('amp_phase.csv', mode='w')\n",
    "#     df_all.to_csv('Amp_and_phase.csv', mode = 'w')\n",
    "\n",
    "if __name__ == \"__main__\":\n",
    "    main()"
   ]
  },
  {
   "cell_type": "code",
   "execution_count": null,
   "metadata": {},
   "outputs": [],
   "source": []
  },
  {
   "cell_type": "code",
   "execution_count": 71,
   "metadata": {},
   "outputs": [],
   "source": [
    "den_data = pd.read_csv(\"15.9_cep90_den/density_matrix.den\", comment=\"#\", delim_whitespace=True, header=None)\n",
    "nact = 8\n",
    "real = np.array(den_data[0]).reshape(nact, nact)\n",
    "imag = np.array(den_data[1]).reshape(nact, nact)\n",
    "den_real = den_imag = np.zeros((9, 9))\n",
    "den_real[1:9,1:9] = real\n",
    "den_imag[1:9,1:9] = imag\n",
    "den_real[0,0] = 2\n"
   ]
  },
  {
   "cell_type": "code",
   "execution_count": 43,
   "metadata": {},
   "outputs": [
    {
     "data": {
      "text/plain": [
       "0.8883270122208174"
      ]
     },
     "execution_count": 43,
     "metadata": {},
     "output_type": "execute_result"
    }
   ],
   "source": [
    "0.006324/0.007119 "
   ]
  },
  {
   "cell_type": "code",
   "execution_count": 44,
   "metadata": {
    "scrolled": true
   },
   "outputs": [
    {
     "data": {
      "text/plain": [
       "0.860451169442266"
      ]
     },
     "execution_count": 44,
     "metadata": {},
     "output_type": "execute_result"
    }
   ],
   "source": [
    "0.037304/0.043354"
   ]
  },
  {
   "cell_type": "code",
   "execution_count": 26,
   "metadata": {
    "scrolled": false
   },
   "outputs": [
    {
     "data": {
      "text/plain": [
       "0.81649658092772592"
      ]
     },
     "execution_count": 26,
     "metadata": {},
     "output_type": "execute_result"
    }
   ],
   "source": [
    "np.sqrt(6)/3"
   ]
  },
  {
   "cell_type": "markdown",
   "metadata": {},
   "source": [
    "#c_d(m=1)/c_d(m=0) = sqrt(3)/2 = 0.866, c_f(m=1)/c_f(m=0) = sqrt(6)/3 = 0.816\n"
   ]
  }
 ],
 "metadata": {
  "kernelspec": {
   "display_name": "Python 3",
   "language": "python",
   "name": "python3"
  },
  "language_info": {
   "codemirror_mode": {
    "name": "ipython",
    "version": 3
   },
   "file_extension": ".py",
   "mimetype": "text/x-python",
   "name": "python",
   "nbconvert_exporter": "python",
   "pygments_lexer": "ipython3",
   "version": "3.5.1"
  }
 },
 "nbformat": 4,
 "nbformat_minor": 2
}
